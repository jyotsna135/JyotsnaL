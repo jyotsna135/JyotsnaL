{
 "cells": [
  {
   "cell_type": "code",
   "execution_count": 1,
   "id": "8b05dbc3",
   "metadata": {},
   "outputs": [],
   "source": [
    "import numpy as np\n",
    "import pandas as pd"
   ]
  },
  {
   "cell_type": "code",
   "execution_count": 5,
   "id": "a11a68b2",
   "metadata": {},
   "outputs": [],
   "source": [
    "df = pd.read_csv(\"D:\\\\jyotsna\\\\python folder\\\\linkedin.csv\")"
   ]
  },
  {
   "cell_type": "code",
   "execution_count": 6,
   "id": "c6a8c465",
   "metadata": {},
   "outputs": [
    {
     "data": {
      "text/html": [
       "<div>\n",
       "<style scoped>\n",
       "    .dataframe tbody tr th:only-of-type {\n",
       "        vertical-align: middle;\n",
       "    }\n",
       "\n",
       "    .dataframe tbody tr th {\n",
       "        vertical-align: top;\n",
       "    }\n",
       "\n",
       "    .dataframe thead th {\n",
       "        text-align: right;\n",
       "    }\n",
       "</style>\n",
       "<table border=\"1\" class=\"dataframe\">\n",
       "  <thead>\n",
       "    <tr style=\"text-align: right;\">\n",
       "      <th></th>\n",
       "      <th>Review</th>\n",
       "      <th>Rating</th>\n",
       "    </tr>\n",
       "  </thead>\n",
       "  <tbody>\n",
       "    <tr>\n",
       "      <th>0</th>\n",
       "      <td>Does absolutely nothing for a LinkedIn beginne...</td>\n",
       "      <td>1</td>\n",
       "    </tr>\n",
       "    <tr>\n",
       "      <th>1</th>\n",
       "      <td>Force close(galaxy tab)</td>\n",
       "      <td>1</td>\n",
       "    </tr>\n",
       "    <tr>\n",
       "      <th>2</th>\n",
       "      <td>Slow and it tries to upload your contacts with...</td>\n",
       "      <td>1</td>\n",
       "    </tr>\n",
       "    <tr>\n",
       "      <th>3</th>\n",
       "      <td>Add ability to customize the profile and move ...</td>\n",
       "      <td>4</td>\n",
       "    </tr>\n",
       "    <tr>\n",
       "      <th>4</th>\n",
       "      <td>Good app, but it's a pain that it's not possib...</td>\n",
       "      <td>4</td>\n",
       "    </tr>\n",
       "  </tbody>\n",
       "</table>\n",
       "</div>"
      ],
      "text/plain": [
       "                                              Review  Rating\n",
       "0  Does absolutely nothing for a LinkedIn beginne...       1\n",
       "1                            Force close(galaxy tab)       1\n",
       "2  Slow and it tries to upload your contacts with...       1\n",
       "3  Add ability to customize the profile and move ...       4\n",
       "4  Good app, but it's a pain that it's not possib...       4"
      ]
     },
     "execution_count": 6,
     "metadata": {},
     "output_type": "execute_result"
    }
   ],
   "source": [
    "df.head()"
   ]
  },
  {
   "cell_type": "code",
   "execution_count": 7,
   "id": "b844696f",
   "metadata": {},
   "outputs": [
    {
     "data": {
      "text/html": [
       "<div>\n",
       "<style scoped>\n",
       "    .dataframe tbody tr th:only-of-type {\n",
       "        vertical-align: middle;\n",
       "    }\n",
       "\n",
       "    .dataframe tbody tr th {\n",
       "        vertical-align: top;\n",
       "    }\n",
       "\n",
       "    .dataframe thead th {\n",
       "        text-align: right;\n",
       "    }\n",
       "</style>\n",
       "<table border=\"1\" class=\"dataframe\">\n",
       "  <thead>\n",
       "    <tr style=\"text-align: right;\">\n",
       "      <th></th>\n",
       "      <th>Review</th>\n",
       "      <th>Rating</th>\n",
       "    </tr>\n",
       "  </thead>\n",
       "  <tbody>\n",
       "    <tr>\n",
       "      <th>697</th>\n",
       "      <td>Can't trust, Going to uninstall just for that ...</td>\n",
       "      <td>1</td>\n",
       "    </tr>\n",
       "    <tr>\n",
       "      <th>698</th>\n",
       "      <td>It really gets me linked in with my friends. H...</td>\n",
       "      <td>5</td>\n",
       "    </tr>\n",
       "    <tr>\n",
       "      <th>699</th>\n",
       "      <td>It lacks most of what makes the other social n...</td>\n",
       "      <td>4</td>\n",
       "    </tr>\n",
       "    <tr>\n",
       "      <th>700</th>\n",
       "      <td>Really disappointed in the new version. Seems ...</td>\n",
       "      <td>2</td>\n",
       "    </tr>\n",
       "    <tr>\n",
       "      <th>701</th>\n",
       "      <td>One of the best looking and well designed apps...</td>\n",
       "      <td>5</td>\n",
       "    </tr>\n",
       "  </tbody>\n",
       "</table>\n",
       "</div>"
      ],
      "text/plain": [
       "                                                Review  Rating\n",
       "697  Can't trust, Going to uninstall just for that ...       1\n",
       "698  It really gets me linked in with my friends. H...       5\n",
       "699  It lacks most of what makes the other social n...       4\n",
       "700  Really disappointed in the new version. Seems ...       2\n",
       "701  One of the best looking and well designed apps...       5"
      ]
     },
     "execution_count": 7,
     "metadata": {},
     "output_type": "execute_result"
    }
   ],
   "source": [
    "df.tail()"
   ]
  },
  {
   "cell_type": "code",
   "execution_count": 8,
   "id": "17049713",
   "metadata": {},
   "outputs": [],
   "source": [
    "import matplotlib.pyplot as plt\n",
    "import seaborn as sns"
   ]
  },
  {
   "cell_type": "code",
   "execution_count": 10,
   "id": "452bc294",
   "metadata": {},
   "outputs": [
    {
     "name": "stdout",
     "output_type": "stream",
     "text": [
      "<class 'pandas.core.frame.DataFrame'>\n",
      "RangeIndex: 702 entries, 0 to 701\n",
      "Data columns (total 2 columns):\n",
      " #   Column  Non-Null Count  Dtype \n",
      "---  ------  --------------  ----- \n",
      " 0   Review  702 non-null    object\n",
      " 1   Rating  702 non-null    int64 \n",
      "dtypes: int64(1), object(1)\n",
      "memory usage: 11.1+ KB\n"
     ]
    }
   ],
   "source": [
    "df.info()"
   ]
  },
  {
   "cell_type": "markdown",
   "id": "da0154a4",
   "metadata": {},
   "source": [
    "# Exploratory Data"
   ]
  },
  {
   "cell_type": "code",
   "execution_count": 11,
   "id": "fc7420e3",
   "metadata": {},
   "outputs": [
    {
     "data": {
      "image/png": "[encoded data removed]",
      "text/plain": [
       "<Figure size 900x500 with 1 Axes>"
      ]
     },
     "metadata": {},
     "output_type": "display_data"
    }
   ],
   "source": [
    "#ploting Distributions of ratings\n",
    "\n",
    "sns.set(style = 'whitegrid')\n",
    "plt.figure(figsize = (9,5))\n",
    "sns.countplot(data = df,\n",
    "             x = 'Rating')\n",
    "plt.title('Distribution of ratings')\n",
    "plt.xlabel('Rating')\n",
    "plt.ylabel('Count')\n",
    "plt.show()"
   ]
  },
  {
   "cell_type": "markdown",
   "id": "27933039",
   "metadata": {},
   "source": [
    "# now we analysize the length of reviews ,as this can sometimes correlate with the sentiment or detail of feedback,we will calculate the first length of reviews and visualize the data."
   ]
  },
  {
   "cell_type": "code",
   "execution_count": 12,
   "id": "fbd66fbd",
   "metadata": {},
   "outputs": [],
   "source": [
    "df['Review length'] = df['Review'].apply(len) "
   ]
  },
  {
   "cell_type": "code",
   "execution_count": 13,
   "id": "07aaa13c",
   "metadata": {},
   "outputs": [
    {
     "data": {
      "text/html": [
       "<div>\n",
       "<style scoped>\n",
       "    .dataframe tbody tr th:only-of-type {\n",
       "        vertical-align: middle;\n",
       "    }\n",
       "\n",
       "    .dataframe tbody tr th {\n",
       "        vertical-align: top;\n",
       "    }\n",
       "\n",
       "    .dataframe thead th {\n",
       "        text-align: right;\n",
       "    }\n",
       "</style>\n",
       "<table border=\"1\" class=\"dataframe\">\n",
       "  <thead>\n",
       "    <tr style=\"text-align: right;\">\n",
       "      <th></th>\n",
       "      <th>Review</th>\n",
       "      <th>Rating</th>\n",
       "      <th>Review length</th>\n",
       "    </tr>\n",
       "  </thead>\n",
       "  <tbody>\n",
       "    <tr>\n",
       "      <th>0</th>\n",
       "      <td>Does absolutely nothing for a LinkedIn beginne...</td>\n",
       "      <td>1</td>\n",
       "      <td>80</td>\n",
       "    </tr>\n",
       "    <tr>\n",
       "      <th>1</th>\n",
       "      <td>Force close(galaxy tab)</td>\n",
       "      <td>1</td>\n",
       "      <td>23</td>\n",
       "    </tr>\n",
       "    <tr>\n",
       "      <th>2</th>\n",
       "      <td>Slow and it tries to upload your contacts with...</td>\n",
       "      <td>1</td>\n",
       "      <td>61</td>\n",
       "    </tr>\n",
       "  </tbody>\n",
       "</table>\n",
       "</div>"
      ],
      "text/plain": [
       "                                              Review  Rating  Review length\n",
       "0  Does absolutely nothing for a LinkedIn beginne...       1             80\n",
       "1                            Force close(galaxy tab)       1             23\n",
       "2  Slow and it tries to upload your contacts with...       1             61"
      ]
     },
     "execution_count": 13,
     "metadata": {},
     "output_type": "execute_result"
    }
   ],
   "source": [
    "df.head(3)"
   ]
  },
  {
   "cell_type": "code",
   "execution_count": 16,
   "id": "4225000c",
   "metadata": {},
   "outputs": [
    {
     "data": {
      "image/png": "[encoded data removed]",
      "text/plain": [
       "<Figure size 900x600 with 1 Axes>"
      ]
     },
     "metadata": {},
     "output_type": "display_data"
    }
   ],
   "source": [
    "# ploting the distribution of review length\n",
    "\n",
    "\n",
    "plt.figure(figsize = (9,6))\n",
    "sns.histplot(df['Review length'], bins = 50 , kde = True)\n",
    "plt.title('Distribution of Review Lengths')\n",
    "plt.xlabel('Length of Review')\n",
    "plt.ylabel('Count')\n",
    "plt.show()"
   ]
  },
  {
   "cell_type": "markdown",
   "id": "106885b3",
   "metadata": {},
   "source": [
    "# Adding Sentiment Labels in The data\n",
    "We will use Textblob library. Textblob library provides a polarity score ranging from - 1(very negative) to +1 (very positive) for a given text. We can use this score to classify each reviews sentiment as positive , negative or neutral"
   ]
  },
  {
   "cell_type": "code",
   "execution_count": 17,
   "id": "bac41cbd",
   "metadata": {},
   "outputs": [
    {
     "name": "stdout",
     "output_type": "stream",
     "text": [
      "Collecting textblob\n",
      "  Downloading textblob-0.17.1-py2.py3-none-any.whl (636 kB)\n",
      "     -------------------------------------- 636.8/636.8 kB 1.0 MB/s eta 0:00:00\n",
      "Requirement already satisfied: nltk>=3.1 in c:\\programdata\\anaconda3\\lib\\site-packages (from textblob) (3.7)\n",
      "Requirement already satisfied: regex>=2021.8.3 in c:\\programdata\\anaconda3\\lib\\site-packages (from nltk>=3.1->textblob) (2022.7.9)\n",
      "Requirement already satisfied: joblib in c:\\programdata\\anaconda3\\lib\\site-packages (from nltk>=3.1->textblob) (1.1.1)\n",
      "Requirement already satisfied: click in c:\\programdata\\anaconda3\\lib\\site-packages (from nltk>=3.1->textblob) (8.0.4)\n",
      "Requirement already satisfied: tqdm in c:\\programdata\\anaconda3\\lib\\site-packages (from nltk>=3.1->textblob) (4.64.1)\n",
      "Requirement already satisfied: colorama in c:\\programdata\\anaconda3\\lib\\site-packages (from click->nltk>=3.1->textblob) (0.4.6)\n",
      "Installing collected packages: textblob\n",
      "Successfully installed textblob-0.17.1\n"
     ]
    }
   ],
   "source": [
    "!pip install textblob"
   ]
  },
  {
   "cell_type": "code",
   "execution_count": 18,
   "id": "1103e479",
   "metadata": {},
   "outputs": [],
   "source": [
    "from textblob import TextBlob"
   ]
  },
  {
   "cell_type": "code",
   "execution_count": 19,
   "id": "312a58c0",
   "metadata": {},
   "outputs": [],
   "source": [
    "def textblob_sentiment_analysis(Review):\n",
    "    sentiment = TextBlob(Review).sentiment\n",
    "    if sentiment.polarity > 0.1 :\n",
    "        return 'Positive'\n",
    "    elif sentiment.polarity < -0.1 :\n",
    "        return 'Negative'\n",
    "    else :\n",
    "        return 'Neutral'"
   ]
  },
  {
   "cell_type": "code",
   "execution_count": 23,
   "id": "3ec78abd",
   "metadata": {},
   "outputs": [],
   "source": [
    "df['Sentiment'] = df['Review'].apply(textblob_sentiment_analysis)"
   ]
  },
  {
   "cell_type": "code",
   "execution_count": 24,
   "id": "7c714129",
   "metadata": {},
   "outputs": [
    {
     "data": {
      "text/html": [
       "<div>\n",
       "<style scoped>\n",
       "    .dataframe tbody tr th:only-of-type {\n",
       "        vertical-align: middle;\n",
       "    }\n",
       "\n",
       "    .dataframe tbody tr th {\n",
       "        vertical-align: top;\n",
       "    }\n",
       "\n",
       "    .dataframe thead th {\n",
       "        text-align: right;\n",
       "    }\n",
       "</style>\n",
       "<table border=\"1\" class=\"dataframe\">\n",
       "  <thead>\n",
       "    <tr style=\"text-align: right;\">\n",
       "      <th></th>\n",
       "      <th>Review</th>\n",
       "      <th>Rating</th>\n",
       "      <th>Review length</th>\n",
       "      <th>Sentiment</th>\n",
       "    </tr>\n",
       "  </thead>\n",
       "  <tbody>\n",
       "    <tr>\n",
       "      <th>0</th>\n",
       "      <td>Does absolutely nothing for a LinkedIn beginne...</td>\n",
       "      <td>1</td>\n",
       "      <td>80</td>\n",
       "      <td>Negative</td>\n",
       "    </tr>\n",
       "    <tr>\n",
       "      <th>1</th>\n",
       "      <td>Force close(galaxy tab)</td>\n",
       "      <td>1</td>\n",
       "      <td>23</td>\n",
       "      <td>Neutral</td>\n",
       "    </tr>\n",
       "    <tr>\n",
       "      <th>2</th>\n",
       "      <td>Slow and it tries to upload your contacts with...</td>\n",
       "      <td>1</td>\n",
       "      <td>61</td>\n",
       "      <td>Negative</td>\n",
       "    </tr>\n",
       "  </tbody>\n",
       "</table>\n",
       "</div>"
      ],
      "text/plain": [
       "                                              Review  Rating  Review length  \\\n",
       "0  Does absolutely nothing for a LinkedIn beginne...       1             80   \n",
       "1                            Force close(galaxy tab)       1             23   \n",
       "2  Slow and it tries to upload your contacts with...       1             61   \n",
       "\n",
       "  Sentiment  \n",
       "0  Negative  \n",
       "1   Neutral  \n",
       "2  Negative  "
      ]
     },
     "execution_count": 24,
     "metadata": {},
     "output_type": "execute_result"
    }
   ],
   "source": [
    "df.head(3)"
   ]
  },
  {
   "cell_type": "markdown",
   "id": "d9d897f9",
   "metadata": {},
   "source": [
    "# Analyzing App Reviews Sentiments"
   ]
  },
  {
   "cell_type": "code",
   "execution_count": 26,
   "id": "817d9efd",
   "metadata": {},
   "outputs": [],
   "source": [
    "sentiment_distribution = df['Sentiment'].value_counts() "
   ]
  },
  {
   "cell_type": "code",
   "execution_count": 27,
   "id": "6324110d",
   "metadata": {},
   "outputs": [
    {
     "data": {
      "text/plain": [
       "Positive    298\n",
       "Neutral     297\n",
       "Negative    107\n",
       "Name: Sentiment, dtype: int64"
      ]
     },
     "execution_count": 27,
     "metadata": {},
     "output_type": "execute_result"
    }
   ],
   "source": [
    "sentiment_distribution "
   ]
  },
  {
   "cell_type": "code",
   "execution_count": 28,
   "id": "22a96c6c",
   "metadata": {},
   "outputs": [
    {
     "data": {
      "image/png": "[encoded data removed]",
      "text/plain": [
       "<Figure size 900x500 with 1 Axes>"
      ]
     },
     "metadata": {},
     "output_type": "display_data"
    }
   ],
   "source": [
    "\n",
    "\n",
    "# ploting the distribution of sentiments\n",
    "\n",
    "plt.figure(figsize = (9,5))\n",
    "sns.barplot(x = sentiment_distribution.index,\n",
    "           y = sentiment_distribution.values)\n",
    "plt.title('Distribution of Sentiments')\n",
    "plt.xlabel('Sentiment')\n",
    "plt.ylabel('Count')\n",
    "plt.show()"
   ]
  },
  {
   "cell_type": "markdown",
   "id": "9c3ed430",
   "metadata": {},
   "source": [
    "# So, we can see although the app has low ratings, still thw reviewsers don't use many negative words in the reviews for the app\n",
    "Now , we will explore the relationship between the sentiments and the ratings. this analanalysis can help us to understand whether there is a correlation betweeen the sentiments of the text and the numerical ratings."
   ]
  },
  {
   "cell_type": "code",
   "execution_count": 30,
   "id": "373eb02e",
   "metadata": {},
   "outputs": [
    {
     "data": {
      "image/png": "[encoded data removed]",
      "text/plain": [
       "<Figure size 1000x500 with 1 Axes>"
      ]
     },
     "metadata": {},
     "output_type": "display_data"
    }
   ],
   "source": [
    "\n",
    "\n",
    "plt.figure(figsize = (10,5)) \n",
    "sns.countplot(data = df , \n",
    "             x = 'Rating',\n",
    "             hue = 'Sentiment')\n",
    "plt.title('Sentiment Distribution Across Ratings')\n",
    "plt.xlabel('Rating')\n",
    "plt.ylabel('Count')\n",
    "plt.legend(title='Sentiment')\n",
    "plt.show() "
   ]
  },
  {
   "cell_type": "markdown",
   "id": "14190019",
   "metadata": {},
   "source": [
    "# Summary\n",
    "So, App Reviews Sentiment Analysis is a valuable tool For app developer and business to understnad user feedback, prioritz feauter updates, and maintain a positive user community."
   ]
  },
  {
   "cell_type": "code",
   "execution_count": null,
   "id": "e0296bb8",
   "metadata": {},
   "outputs": [],
   "source": []
  }
 ],
 "metadata": {
  "kernelspec": {
   "display_name": "Python 3 (ipykernel)",
   "language": "python",
   "name": "python3"
  },
  "language_info": {
   "codemirror_mode": {
    "name": "ipython",
    "version": 3
   },
   "file_extension": ".py",
   "mimetype": "text/x-python",
   "name": "python",
   "nbconvert_exporter": "python",
   "pygments_lexer": "ipython3",
   "version": "3.10.9"
  }
 },
 "nbformat": 4,
 "nbformat_minor": 5
}
